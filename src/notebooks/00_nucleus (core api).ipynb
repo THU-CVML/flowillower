{
 "cells": [
  {
   "cell_type": "markdown",
   "metadata": {},
   "source": [
    "# nucleus\n",
    "\n",
    "> core functionalities of this lib"
   ]
  },
  {
   "cell_type": "code",
   "execution_count": 1,
   "metadata": {},
   "outputs": [],
   "source": [
    "#| default_exp nucleus"
   ]
  },
  {
   "cell_type": "code",
   "execution_count": 2,
   "metadata": {},
   "outputs": [],
   "source": [
    "#| hide\n",
    "%load_ext autoreload\n",
    "%autoreload 2\n",
    "from nbdev.showdoc import *"
   ]
  },
  {
   "cell_type": "markdown",
   "metadata": {},
   "source": [
    "## 实验初始化"
   ]
  },
  {
   "cell_type": "code",
   "execution_count": 3,
   "metadata": {},
   "outputs": [],
   "source": [
    "# | export\n",
    "from flowillower.help import lib_directory_path, runs_path\n",
    "from scholarly_infrastructure import logger, print\n",
    "app_template_path = lib_directory_path / 'flowillower_app_template'"
   ]
  },
  {
   "cell_type": "code",
   "execution_count": 4,
   "metadata": {},
   "outputs": [
    {
     "data": {
      "text/html": [
       "<pre style=\"white-space:pre;overflow-x:auto;line-height:normal;font-family:Menlo,'DejaVu Sans Mono',consolas,'Courier New',monospace\"><span style=\"color: #7fbfbf; text-decoration-color: #7fbfbf\">Tue 2025-05-27 21:42:54.886868</span>\n",
       "</pre>\n"
      ],
      "text/plain": [
       "\u001b[2;36mTue 2025-05-27 21:42:54.886868\u001b[0m\n"
      ]
     },
     "metadata": {},
     "output_type": "display_data"
    },
    {
     "data": {
      "text/html": [
       "<pre style=\"white-space:pre;overflow-x:auto;line-height:normal;font-family:Menlo,'DejaVu Sans Mono',consolas,'Courier New',monospace\"><span style=\"color: #000080; text-decoration-color: #000080\">INFO    </span> test                                                                                       <a href=\"file:///tmp/ipykernel_1722333/1853071160.py\" target=\"_blank\"><span style=\"color: #7f7f7f; text-decoration-color: #7f7f7f\">1853071160.py</span></a><span style=\"color: #7f7f7f; text-decoration-color: #7f7f7f\">:</span><a href=\"file:///tmp/ipykernel_1722333/1853071160.py#3\" target=\"_blank\"><span style=\"color: #7f7f7f; text-decoration-color: #7f7f7f\">3</span></a>\n",
       "</pre>\n"
      ],
      "text/plain": [
       "\u001b[34mINFO    \u001b[0m test                                                                                       \u001b]8;id=479399;file:///tmp/ipykernel_1722333/1853071160.py\u001b\\\u001b[2m1853071160.py\u001b[0m\u001b]8;;\u001b\\\u001b[2m:\u001b[0m\u001b]8;id=858202;file:///tmp/ipykernel_1722333/1853071160.py#3\u001b\\\u001b[2m3\u001b[0m\u001b]8;;\u001b\\\n"
      ]
     },
     "metadata": {},
     "output_type": "display_data"
    },
    {
     "data": {
      "text/html": [
       "<pre style=\"white-space:pre;overflow-x:auto;line-height:normal;font-family:Menlo,'DejaVu Sans Mono',consolas,'Courier New',monospace\"><span style=\"color: #7fbfbf; text-decoration-color: #7fbfbf\">Tue 2025-05-27 21:42:54.892943</span>\n",
       "</pre>\n"
      ],
      "text/plain": [
       "\u001b[2;36mTue 2025-05-27 21:42:54.892943\u001b[0m\n"
      ]
     },
     "metadata": {},
     "output_type": "display_data"
    },
    {
     "data": {
      "text/html": [
       "<pre style=\"white-space:pre;overflow-x:auto;line-height:normal;font-family:Menlo,'DejaVu Sans Mono',consolas,'Courier New',monospace\"><span style=\"color: #000080; text-decoration-color: #000080\">INFO    </span> test                                                                                         <a href=\"file:///home/ye_canming/repos/novelties/ScholarlyInfrastructure/scholarly_infrastructure/logging/nucleus.py\" target=\"_blank\"><span style=\"color: #7f7f7f; text-decoration-color: #7f7f7f\">nucleus.py</span></a><span style=\"color: #7f7f7f; text-decoration-color: #7f7f7f\">:</span><a href=\"file:///home/ye_canming/repos/novelties/ScholarlyInfrastructure/scholarly_infrastructure/logging/nucleus.py#65\" target=\"_blank\"><span style=\"color: #7f7f7f; text-decoration-color: #7f7f7f\">65</span></a>\n",
       "</pre>\n"
      ],
      "text/plain": [
       "\u001b[34mINFO    \u001b[0m test                                                                                         \u001b]8;id=260161;file:///home/ye_canming/repos/novelties/ScholarlyInfrastructure/scholarly_infrastructure/logging/nucleus.py\u001b\\\u001b[2mnucleus.py\u001b[0m\u001b]8;;\u001b\\\u001b[2m:\u001b[0m\u001b]8;id=942945;file:///home/ye_canming/repos/novelties/ScholarlyInfrastructure/scholarly_infrastructure/logging/nucleus.py#65\u001b\\\u001b[2m65\u001b[0m\u001b]8;;\u001b\\\n"
      ]
     },
     "metadata": {},
     "output_type": "display_data"
    }
   ],
   "source": [
    "import scholarly_infrastructure\n",
    "from scholarly_infrastructure import logger\n",
    "logger.info(\"test\")\n",
    "print(\"test\")"
   ]
  },
  {
   "cell_type": "code",
   "execution_count": 5,
   "metadata": {},
   "outputs": [
    {
     "data": {
      "text/html": [
       "<pre style=\"white-space:pre;overflow-x:auto;line-height:normal;font-family:Menlo,'DejaVu Sans Mono',consolas,'Courier New',monospace\"></pre>\n"
      ],
      "text/plain": []
     },
     "metadata": {},
     "output_type": "display_data"
    },
    {
     "data": {
      "text/plain": [
       "\u001b[3;92mTrue\u001b[0m"
      ]
     },
     "execution_count": 5,
     "metadata": {},
     "output_type": "execute_result"
    }
   ],
   "source": [
    "app_template_path.exists()"
   ]
  },
  {
   "cell_type": "code",
   "execution_count": 6,
   "metadata": {},
   "outputs": [],
   "source": [
    "# | export\n",
    "\n",
    "from sympy import Not\n",
    "from scholarly_infrastructure import experiment_setting, RandomVariable\n",
    "from typing import Optional, List\n",
    "from git import Repo, InvalidGitRepositoryError, GitCommandError\n",
    "from pathlib import Path\n",
    "import shutil\n",
    "@experiment_setting\n",
    "class VisualizationApp:\n",
    "    app_path: str = ~RandomVariable(\n",
    "        \"./flowillower_app\", description=\"Local directory to store the visualization app\"\n",
    "    )\n",
    "    app_remote_url: Optional[str] = ~RandomVariable(\n",
    "        None, description=\"Optional remote Git repository URL for pushing changes\"\n",
    "    )\n",
    "    app_remote_branch: str = ~RandomVariable(\n",
    "        \"main\", description=\"Branch name for the remote repository\"\n",
    "    )\n",
    "    remote_url_is_new: bool = ~RandomVariable(\n",
    "        True, description=\"Whether the remote URL is a new repository to be created\"\n",
    "    )\n",
    "    @property\n",
    "    def app_data_path(self):\n",
    "        \"\"\"\n",
    "        Returns the path to the app data directory.\n",
    "        \"\"\"\n",
    "        return Path(self.app_path).resolve() / \"data\"\n",
    "    def setup(self):\n",
    "        \"\"\"\n",
    "        Sets up the visualization app by cloning the remote repository if provided.\n",
    "        \"\"\"\n",
    "        app_path = Path(self.app_path).resolve()\n",
    "        if app_path.exists():\n",
    "            return # 默认创建好了，不管用户有没有自由地修改 app.py 和 git 信息\n",
    "        print(f\"[flowillower] Creating app directory at {app_path} \")\n",
    "        # 从 template 得到这个app\n",
    "        # 直接复制一份 app_template_path 过去\n",
    "        if not self.remote_url_is_new:\n",
    "            raise NotImplementedError(\n",
    "                \"Remote URL is not new. This feature is not implemented yet.\"\n",
    "            )\n",
    "        \n",
    "        shutil.copytree(app_template_path, self.app_path, dirs_exist_ok=True)\n",
    "        \n",
    "        print(f\"[flowillower] App directory created at {app_path} \")\n",
    "        # TODO\n",
    "        # if self.app_remote_url: # 用户希望这个 app 在 这个 remote url 上看到\n",
    "        #     # 修改 remote url 即可\n",
    "        #     try:\n",
    "        #         repo = Repo(app_path)\n",
    "        #         origin.set_url(self.app_remote_url)\n",
    "        #         print(f\"[flowillower] Remote URL set to {self.app_remote_url}.\")\n",
    "        #     except GitCommandError as e:\n",
    "        #         raise RuntimeError(f\"Failed to set remote URL: {e}\")\n",
    "        # else:\n",
    "        #     print(\"[flowillower] No remote URL provided. Skipping remote setup.\")"
   ]
  },
  {
   "cell_type": "code",
   "execution_count": 7,
   "metadata": {},
   "outputs": [
    {
     "data": {
      "text/html": [
       "<pre style=\"white-space:pre;overflow-x:auto;line-height:normal;font-family:Menlo,'DejaVu Sans Mono',consolas,'Courier New',monospace\"></pre>\n"
      ],
      "text/plain": []
     },
     "metadata": {},
     "output_type": "display_data"
    },
    {
     "data": {
      "text/plain": [
       "\u001b[1m[\u001b[0m\u001b[1m]\u001b[0m"
      ]
     },
     "execution_count": 7,
     "metadata": {},
     "output_type": "execute_result"
    }
   ],
   "source": [
    "app = VisualizationApp(\n",
    "    (runs_path/\"test_app\").as_posix(),\n",
    "    \"https://huggingface.co/spaces/THU-CVML/flowillower_app\"\n",
    ")\n",
    "app.setup()\n",
    "repo = Repo((runs_path/\"test_app\").as_posix())\n",
    "repo.remotes"
   ]
  },
  {
   "cell_type": "code",
   "execution_count": 8,
   "metadata": {},
   "outputs": [],
   "source": [
    "#| export\n",
    "import math\n",
    "\n",
    "WORD_MAP = [\n",
    "    [\"垂柳\", \"烟柳\", \"杨柳\", \"柳浪\", \"柳荫\"],    # 柳 0\n",
    "    [\"雾隐\", \"幽谷\", \"深潭\", \"暮色\", \"云蔽\"],    # 暗 1\n",
    "    [\"桃李\", \"芳菲\", \"芙蕖\", \"槿荣\", \"菊韵\"],    # 花 2\n",
    "    [\"晨曦\", \"晴岚\", \"霁色\", \"皎月\", \"星河\"]     # 明 3\n",
    "]\n",
    "\n",
    "def number_to_phrase(n: int, sep: str = \"-\") -> str:\n",
    "    \"\"\"将数字转换为无限扩展的成语组合\"\"\"\n",
    "    if n < 0:\n",
    "        raise ValueError(\"输入必须是非负整数\")\n",
    "\n",
    "    # 生成动态进制编码\n",
    "    digits = []\n",
    "    while n > 0:\n",
    "        digits.append(n % 5)\n",
    "        n = n // 5\n",
    "  \n",
    "    # 生成词汇链\n",
    "    components = []\n",
    "    for i, d in enumerate(digits):\n",
    "        layer = i % 4  # 0=柳 1=暗 2=花 3=明\n",
    "        word_set = WORD_MAP[layer]\n",
    "        components.append(word_set[d % 5])\n",
    "  \n",
    "    # 从最高位开始拼接\n",
    "    return sep.join(reversed(components)) if components else WORD_MAP[0][0]\n",
    "# TODO 似乎不太对。\n"
   ]
  },
  {
   "cell_type": "code",
   "execution_count": 9,
   "metadata": {},
   "outputs": [
    {
     "data": {
      "text/html": [
       "<pre style=\"white-space:pre;overflow-x:auto;line-height:normal;font-family:Menlo,'DejaVu Sans Mono',consolas,'Courier New',monospace\"></pre>\n"
      ],
      "text/plain": []
     },
     "metadata": {},
     "output_type": "display_data"
    },
    {
     "data": {
      "text/plain": [
       "\n",
       "\u001b[1m[\u001b[0m\n",
       "    \u001b[32m'垂柳'\u001b[0m,\n",
       "    \u001b[32m'烟柳'\u001b[0m,\n",
       "    \u001b[32m'杨柳'\u001b[0m,\n",
       "    \u001b[32m'柳浪'\u001b[0m,\n",
       "    \u001b[32m'柳荫'\u001b[0m,\n",
       "    \u001b[32m'幽谷-垂柳'\u001b[0m,\n",
       "    \u001b[32m'幽谷-烟柳'\u001b[0m,\n",
       "    \u001b[32m'幽谷-杨柳'\u001b[0m,\n",
       "    \u001b[32m'幽谷-柳浪'\u001b[0m,\n",
       "    \u001b[32m'幽谷-柳荫'\u001b[0m\n",
       "\u001b[1m]\u001b[0m"
      ]
     },
     "execution_count": 9,
     "metadata": {},
     "output_type": "execute_result"
    }
   ],
   "source": [
    "[number_to_phrase(i) for i in range(10)]"
   ]
  },
  {
   "cell_type": "code",
   "execution_count": 10,
   "metadata": {},
   "outputs": [],
   "source": [
    "#| export\n",
    "from datetime import datetime\n",
    "\n",
    "@experiment_setting\n",
    "class Trial(VisualizationApp):\n",
    "    \"\"\"\n",
    "    Represents a trial within an institution, inheriting from Institution.\n",
    "    \"\"\"\n",
    "    # 以后再做仓库解耦，先把写入逻辑搞定\n",
    "    study_name:str  =~RandomVariable(\"study\")\n",
    "    trial_name: Optional[str] =~RandomVariable(None)\n",
    "    trial_description: str = ~RandomVariable(\n",
    "        \"A description of the trial\", description=\"Description of the trial\"\n",
    "    )\n",
    "    input_variables: dict =~RandomVariable(\n",
    "        default_factory=dict, description=\"Input variables for the trial\"\n",
    "    )\n",
    "    trial_start_date: datetime = ~RandomVariable(datetime.now(), description=\"Start date of the trial\")\n",
    "    trial_end_date: Optional[datetime] = ~RandomVariable(\n",
    "        None, description=\"End date of the trial, if applicable\"\n",
    "    )\n",
    "    participants: List[str] = ~RandomVariable(default_factory=list, description=\"List of participants in the trial\")\n",
    "    setup_immediately:bool =~RandomVariable(True, description=\"\")\n",
    "\n",
    "            \n",
    "    # report_format:str = \"flowillower/toml\", # 我们这个框架定义的格式\n",
    "    report_to: List[str] = ~RandomVariable(\n",
    "        default_factory = lambda:[\n",
    "        # \"flowillower/csv\", \n",
    "        # \"tensorboard\", # 本地\n",
    "        # \"wandb\", # \n",
    "        # \"mlflow\" # 开源\n",
    "        ],\n",
    "        description=\"List of platforms to report experiment results to\",\n",
    "    )\n",
    "    is_on_main_process: bool = ~RandomVariable(\n",
    "        True, description=\"Whether the trial is running on the main process, if not, it will not report results. \"\n",
    "    )\n",
    "\n",
    "    def setup(self):\n",
    "        if not self.is_on_main_process:\n",
    "            # TODO 应该读取文件获得信息，确保信息正确。\n",
    "            return\n",
    "        self.trial_start_date = datetime.now()\n",
    "\n",
    "        # if \"flowillower/toml\" in self.report_to:\n",
    "        super().setup() # 确保app仓库存在了\n",
    "        trial_path = self.trial_path\n",
    "        trial_path.mkdir(parents=True, exist_ok=True)\n",
    "\n",
    "        if \"wandb\" in self.report_to:\n",
    "            # try:\n",
    "            import wandb\n",
    "            # except:\n",
    "                # raise ImportError(\"wandb is not installed. \")\n",
    "            self.third_parties[\"wandb\"] = wandb.init(\n",
    "                project=self.study_name, \n",
    "                name=self.trial_name, \n",
    "                notes=self.trial_description\n",
    "            )\n",
    "        if \"swanlab\" in self.report_to:\n",
    "            import swanlab\n",
    "            self.third_parties[\"swanlab\"] = swanlab.init(\n",
    "                project=self.study_name, \n",
    "                experiment_name = self.trial_name,\n",
    "                description = self.trial_description\n",
    "            )\n",
    "            \n",
    "            \n",
    "    \n",
    "\n",
    "\n",
    "    @property\n",
    "    def study_path(self) -> Path:\n",
    "        return self.app_data_path/self.study_name\n",
    "\n",
    "    def random_new_trial_name(self) -> str:\n",
    "        study_path = self.study_path\n",
    "        # 有多少个 子文件夹\n",
    "        if study_path.exists():\n",
    "            existing_trials = [d.name for d in study_path.iterdir() if d.is_dir()]\n",
    "            return number_to_phrase(len(existing_trials))\n",
    "        else:\n",
    "            return number_to_phrase(0)\n",
    "    \n",
    "    @property\n",
    "    def trial_path(self) -> Path:\n",
    "        assert self.trial_name is not None\n",
    "        return self.study_path/self.trial_name\n",
    "\n",
    "    def __post_init__(self):\n",
    "        self.third_parties = dict()\n",
    "        if self.trial_name is None:\n",
    "            self.trial_name = self.random_new_trial_name()\n",
    "        if self.setup_immediately:\n",
    "            self.setup()\n",
    "            "
   ]
  },
  {
   "cell_type": "code",
   "execution_count": 11,
   "metadata": {},
   "outputs": [],
   "source": [
    "# 一层是数据，一层是vis app，这样huggingface不会触发重新加载。app局部的pull\n",
    "# TODO "
   ]
  },
  {
   "cell_type": "code",
   "execution_count": null,
   "metadata": {},
   "outputs": [],
   "source": [
    "test_trial = Trial(app_path=(runs_path/\"test_trial\").as_posix(),\n",
    "      study_name=\"test_study\",\n",
    "      report_to=[\"wandb\", \"swanlab\"])"
   ]
  },
  {
   "cell_type": "markdown",
   "metadata": {},
   "source": [
    "默认单体 TODO"
   ]
  },
  {
   "cell_type": "code",
   "execution_count": 86,
   "metadata": {},
   "outputs": [],
   "source": [
    "# def create_trial():"
   ]
  },
  {
   "cell_type": "code",
   "execution_count": 19,
   "metadata": {},
   "outputs": [],
   "source": [
    "import dataclasses\n",
    "import argparse\n",
    "from collections.abc import Mapping\n",
    "\n",
    "def everything_to_dict(obj):\n",
    "    \"\"\"\n",
    "    将类似字典的对象（如argparse.Namespace、dataclass等）递归转换为标准字典。\n",
    "  \n",
    "    支持类型：\n",
    "    - 字典及所有Mapping类型（如OrderedDict）\n",
    "    - dataclass实例\n",
    "    - argparse.Namespace实例\n",
    "    - 普通类实例（含__dict__属性）\n",
    "    - 使用__slots__的类实例\n",
    "    - namedtuple\n",
    "    - 列表、元组、集合（递归处理元素）\n",
    "    \"\"\"\n",
    "    # 处理字典及其他Mapping类型（如OrderedDict）\n",
    "    if isinstance(obj, Mapping):\n",
    "        return {k: everything_to_dict(v) for k, v in obj.items()}\n",
    "  \n",
    "    # 处理dataclass实例\n",
    "    if dataclasses.is_dataclass(obj):\n",
    "        return everything_to_dict(dataclasses.asdict(obj))\n",
    "  \n",
    "    # 处理argparse.Namespace\n",
    "    if isinstance(obj, argparse.Namespace):\n",
    "        return everything_to_dict(vars(obj))\n",
    "  \n",
    "    # 处理普通类实例（含__dict__）\n",
    "    if hasattr(obj, '__dict__'):\n",
    "        return everything_to_dict(vars(obj))\n",
    "  \n",
    "    # 处理使用__slots__的类实例\n",
    "    if hasattr(obj, '__slots__'):\n",
    "        slots = obj.__slots__ if isinstance(obj.__slots__, (list, tuple)) else [obj.__slots__]\n",
    "        return {slot: everything_to_dict(getattr(obj, slot)) for slot in slots if hasattr(obj, slot)}\n",
    "  \n",
    "    # 处理列表、元组、集合（递归处理元素）\n",
    "    if isinstance(obj, (list, tuple, set)):\n",
    "        return [everything_to_dict(e) for e in obj]\n",
    "  \n",
    "    # 处理namedtuple\n",
    "    if isinstance(obj, tuple) and hasattr(obj, '_fields') and hasattr(obj, '_asdict'):\n",
    "        return everything_to_dict(obj._asdict())\n",
    "  \n",
    "    # 基本类型直接返回\n",
    "    return obj"
   ]
  },
  {
   "cell_type": "markdown",
   "metadata": {},
   "source": [
    "## 超参数记录"
   ]
  },
  {
   "cell_type": "code",
   "execution_count": 22,
   "metadata": {},
   "outputs": [],
   "source": [
    "#| export\n",
    "from fastcore.all import patch\n",
    "import tomli_w\n",
    "@patch\n",
    "def write_input_variables(self:Trial):\n",
    "    if not self.is_on_main_process:\n",
    "        return\n",
    "    report_path = self.trial_path / \"input_variables.toml\"\n",
    "    report_path.parent.mkdir(parents=True, exist_ok=True)\n",
    "    with open(report_path, \"wb\") as f:\n",
    "        tomli_w.dump(self.input_variables, f)\n",
    "\n",
    "@patch\n",
    "def report_input_variables(self:Trial, input_variables:dict, wandb_config_important=True)->dict:\n",
    "    \"\"\"\n",
    "    Report the trial arguments to the specified platforms.\n",
    "    \"\"\"\n",
    "    if not self.is_on_main_process:\n",
    "        return\n",
    "    \n",
    "    if \"wandb\" in self.report_to:\n",
    "        import wandb\n",
    "        wandb_dict = wandb.config.as_dict()\n",
    "        if wandb_config_important:\n",
    "            input_variables = {**input_variables, **wandb_dict}# 压轴出手\n",
    "        else:\n",
    "            input_variables = {**wandb_dict, **input_variables}\n",
    "    \n",
    "    self.input_variables |= input_variables\n",
    "\n",
    "    if \"wandb\" in self.report_to:\n",
    "        import wandb\n",
    "        wandb.config.update(self.input_variables)\n",
    "        # wandb.config.update(allow_val_change=True)\n",
    "        # args = wandb.config # type: ignore\n",
    "\n",
    "    if \"swanlab\" in self.report_to:\n",
    "        import swanlab\n",
    "        swanlab.config.update(self.input_variables)\n",
    "\n",
    "    self.write_input_variables()\n",
    "    return self.input_variables"
   ]
  },
  {
   "cell_type": "code",
   "execution_count": 23,
   "metadata": {},
   "outputs": [
    {
     "data": {
      "text/html": [
       "<pre style=\"white-space:pre;overflow-x:auto;line-height:normal;font-family:Menlo,'DejaVu Sans Mono',consolas,'Courier New',monospace\"></pre>\n"
      ],
      "text/plain": []
     },
     "metadata": {},
     "output_type": "display_data"
    },
    {
     "data": {
      "text/plain": [
       "\u001b[1m{\u001b[0m\u001b[32m'a'\u001b[0m: \u001b[1;36m1\u001b[0m, \u001b[32m'b'\u001b[0m: \u001b[1;36m2\u001b[0m, \u001b[32m'c'\u001b[0m: \u001b[1;36m3\u001b[0m, \u001b[32m'd'\u001b[0m: \u001b[1;36m4\u001b[0m\u001b[1m}\u001b[0m"
      ]
     },
     "execution_count": 23,
     "metadata": {},
     "output_type": "execute_result"
    }
   ],
   "source": [
    "test_trial.report_input_variables(dict(a=1, b=2, c=3))\n",
    "test_trial.report_input_variables(dict(d=4))"
   ]
  },
  {
   "cell_type": "markdown",
   "metadata": {},
   "source": [
    "## 指标上传"
   ]
  },
  {
   "cell_type": "markdown",
   "metadata": {},
   "source": [
    "### 异步step一致性算法"
   ]
  },
  {
   "cell_type": "code",
   "execution_count": 24,
   "metadata": {},
   "outputs": [],
   "source": [
    "#| export\n",
    "from typing import Optional, List, Set\n",
    "\n",
    "all_tracks:Set['Track'] = set()\n",
    "max_global_step = -1\n",
    "@experiment_setting\n",
    "class Track:\n",
    "    \"\"\"\n",
    "    A class to represent a phase for logging.\n",
    "    \"\"\"\n",
    "    name: str =~ RandomVariable(\"default\")\n",
    "    description:str =~RandomVariable(\"\")\n",
    "    local_step:int =~RandomVariable(-1)\n",
    "    global_step:int =~RandomVariable(-1)\n",
    "\n",
    "    def step_once(self):\n",
    "        \"\"\"\n",
    "        每次`report`的时候，先调用这个函数确保对齐了，然后再读取这个对象的 global_step\n",
    "        \"\"\"\n",
    "        self.local_step += 1 # 自己这个phase内的step很好决定。\n",
    "        # 关键是要根据现在场上已有的其他phase来决定自己的global_step是什么。\n",
    "        global all_phases, max_global_step\n",
    "        # max_global_step = max(phase.global_step for phase in all_phases)\n",
    "        if self.global_step==max_global_step:\n",
    "            self.global_step += 1 # 我是最大者，我观察到了新的值，意味着时间发生了变化，我来定义 global step。 \n",
    "            max_global_step = self.global_step # 记录下来，供其他人使用。\n",
    "        else:\n",
    "            self.global_step = max_global_step # 同步到其他人的最大值，我和他们是同时的，我落后于他们的记录，我记录的对象的性质和他们记录的对象的性质是一样的，理应没有发生变化。\n",
    "\n",
    "train_track = Track(name=\"train\")\n",
    "val_track = Track(name=\"val\")\n",
    "test_track = Track(name=\"test\")"
   ]
  },
  {
   "cell_type": "markdown",
   "metadata": {},
   "source": [
    "logging"
   ]
  },
  {
   "cell_type": "code",
   "execution_count": 25,
   "metadata": {},
   "outputs": [],
   "source": [
    "#| export\n",
    "from fastcore.basics import patch\n",
    "from filelock import FileLock\n",
    "from pathlib import Path\n",
    "\n",
    "import tomli\n",
    "\n",
    "@patch\n",
    "def report_step_third_party(\n",
    "    self: Trial,\n",
    "    information: dict,\n",
    "    global_step: int,\n",
    "    track_name: str = \"default\"\n",
    "):\n",
    "    postfix = f\"-{track_name}\"\n",
    "    information = {f\"{k}{postfix}\": v for k, v in information.items()}\n",
    "    if \"wandb\" in self.report_to:\n",
    "        import wandb\n",
    "        wandb.log(information, step=global_step)\n",
    "    if \"swanlab\" in self.report_to:\n",
    "        import swanlab\n",
    "        swanlab.log(information, step=global_step)\n",
    "\n",
    "\n",
    "\n",
    "@patch\n",
    "def report_step(\n",
    "    self: Trial,\n",
    "    information: dict,\n",
    "    global_step: int,\n",
    "    track_name: str = \"default\"\n",
    "):\n",
    "    \"\"\"\n",
    "    Report one step's data to the specified track.\n",
    "\n",
    "    - `data`: dict of metric name → value\n",
    "    - `global_step`: unified training step\n",
    "    - `track_name`: name of the logical phase (e.g. \"train\", \"val\", \"test\")\n",
    "\n",
    "    Each track has its own TOML file using [[metrics]] array of tables.\n",
    "    \"\"\"\n",
    "    if not self.is_on_main_process:\n",
    "        return\n",
    "    scalar_dir = self.trial_path / \"logs/scalar\"\n",
    "    scalar_dir.mkdir(parents=True, exist_ok=True)\n",
    "\n",
    "    file_name = f\"metrics_{track_name}.toml\"\n",
    "    report_path = scalar_dir / file_name\n",
    "\n",
    "    entry = {\"global_step\": global_step, **information}\n",
    "\n",
    "    if not report_path.exists():\n",
    "        # First write: create file with initial entry\n",
    "        with open(report_path, \"wb\") as f:\n",
    "            tomli_w.dump({\"metrics\": [entry]}, f)\n",
    "    else:\n",
    "        # Append new entry by reading old, then writing back\n",
    "        with open(report_path, \"rb\") as f:\n",
    "            old_data = tomli.load(f)\n",
    "\n",
    "        metrics = old_data.get(\"metrics\", [])\n",
    "        metrics.append(entry)\n",
    "\n",
    "        with open(report_path, \"wb\") as f:\n",
    "            tomli_w.dump({\"metrics\": metrics}, f)\n",
    "    \n",
    "    self.report_step_third_party(information, global_step, track_name)\n",
    "    \n",
    "\n",
    "\n",
    "\n",
    "@patch\n",
    "def report_step_lock(\n",
    "    self: Trial,\n",
    "    information: dict,\n",
    "    global_step: int,\n",
    "    track_name: str = \"default\"\n",
    "):\n",
    "    \"\"\"\n",
    "    Efficiently append a step's data to a TOML log file under a named track.\n",
    "\n",
    "    Uses low-level file append + file lock for speed and thread-safety.\n",
    "    \"\"\"\n",
    "    scalar_dir = self.trial_path / \"logs/scalar\"\n",
    "    scalar_dir.mkdir(parents=True, exist_ok=True)\n",
    "\n",
    "    file_name = f\"metrics_{track_name}.toml\"\n",
    "    report_path = scalar_dir / file_name\n",
    "    lock_path = report_path.with_suffix(\".lock\")\n",
    "\n",
    "    # Format the data as TOML string manually\n",
    "    lines = [\"\\n[[metrics]]\", f\"global_step = {global_step}\"]\n",
    "    for k, v in information.items():\n",
    "        if isinstance(v, str):\n",
    "            lines.append(f'{k} = \"{v}\"')\n",
    "        elif isinstance(v, bool):\n",
    "            lines.append(f\"{k} = {'true' if v else 'false'}\")\n",
    "        else:\n",
    "            lines.append(f\"{k} = {v}\")\n",
    "    lines.append(\"\")  # final newline\n",
    "    content = \"\\n\".join(lines)\n",
    "\n",
    "    # Use file lock for safe concurrent writing\n",
    "    lock = FileLock(lock_path)\n",
    "    with lock:\n",
    "        with open(report_path, \"a\", encoding=\"utf-8\") as f:\n",
    "            f.write(content)\n",
    "\n",
    "\n",
    "\n",
    "@patch\n",
    "def report(self:Trial, information:dict, track:Track, step_forward:bool = True):\n",
    "    \"\"\"\n",
    "    Report the trial arguments to the specified platforms.\n",
    "    \"\"\"\n",
    "    if step_forward:\n",
    "        track.step_once()\n",
    "    return self.report_step(information, track.global_step, track_name=track.name)\n",
    "\n",
    "@patch\n",
    "def report_train(self:Trial, information:dict, step_forward:bool = True):\n",
    "    \"\"\"\n",
    "    Report the trial arguments to the training track.\n",
    "    \"\"\"\n",
    "    return self.report(information, train_track, step_forward)\n",
    "@patch\n",
    "def report_val(self:Trial, information:dict, step_forward:bool = True):\n",
    "    \"\"\"\n",
    "    Report the trial arguments to the validation track.\n",
    "    \"\"\"\n",
    "    return self.report(information, val_track, step_forward)\n",
    "@patch\n",
    "def report_test(self:Trial, information:dict, step_forward:bool = True):\n",
    "    \"\"\"\n",
    "    Report the trial arguments to the test track.\n",
    "    \"\"\"\n",
    "    return self.report(information, test_track, step_forward)\n"
   ]
  },
  {
   "cell_type": "code",
   "execution_count": 26,
   "metadata": {},
   "outputs": [],
   "source": [
    "loss = 30\n",
    "acc = 0.5\n",
    "for epoch in range(10):\n",
    "    for batch in range(20):\n",
    "        loss = loss*0.8\n",
    "        acc = acc*1.1\n",
    "        test_trial.report_train(dict(loss=loss, acc=acc))\n",
    "    test_trial.report_val(dict(loss=loss*1.2, acc=acc/1.2))\n",
    "test_trial.report_test(dict(loss=loss*1.3, acc=acc/1.3))"
   ]
  },
  {
   "cell_type": "markdown",
   "metadata": {},
   "source": [
    "## 生态外推\n",
    "\n",
    "自动跟随 wandb.log"
   ]
  },
  {
   "cell_type": "code",
   "execution_count": null,
   "metadata": {},
   "outputs": [],
   "source": [
    "# TODO"
   ]
  },
  {
   "cell_type": "code",
   "execution_count": null,
   "metadata": {},
   "outputs": [],
   "source": [
    "#| hide\n",
    "import nbdev; nbdev.nbdev_export()"
   ]
  },
  {
   "cell_type": "markdown",
   "metadata": {},
   "source": []
  }
 ],
 "metadata": {
  "kernelspec": {
   "display_name": "yuequ",
   "language": "python",
   "name": "python3"
  },
  "language_info": {
   "codemirror_mode": {
    "name": "ipython",
    "version": 3
   },
   "file_extension": ".py",
   "mimetype": "text/x-python",
   "name": "python",
   "nbconvert_exporter": "python",
   "pygments_lexer": "ipython3",
   "version": "3.10.17"
  }
 },
 "nbformat": 4,
 "nbformat_minor": 4
}
