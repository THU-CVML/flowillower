{
 "cells": [
  {
   "cell_type": "markdown",
   "metadata": {},
   "source": [
    "# Library Information\n",
    "\n",
    "> 本库的一些信息"
   ]
  },
  {
   "cell_type": "code",
   "execution_count": 1,
   "metadata": {},
   "outputs": [],
   "source": [
    "#| default_exp help"
   ]
  },
  {
   "cell_type": "code",
   "execution_count": 2,
   "metadata": {},
   "outputs": [],
   "source": [
    "#| hide\n",
    "%load_ext autoreload\n",
    "%autoreload 2\n",
    "from nbdev.showdoc import *"
   ]
  },
  {
   "cell_type": "code",
   "execution_count": 3,
   "metadata": {},
   "outputs": [],
   "source": [
    "#| hide\n",
    "import os\n",
    "os.environ['HF_ENDPOINT'] = \"https://hf-mirror.com\""
   ]
  },
  {
   "cell_type": "markdown",
   "metadata": {},
   "source": [
    "## 项目有关的路径计算"
   ]
  },
  {
   "cell_type": "code",
   "execution_count": 19,
   "metadata": {},
   "outputs": [],
   "source": [
    "#| export\n",
    "from scholarly_infrastructure.help import setup_paths, create_variables_from_dict, combine_bilingual_pretty\n",
    "import flowillower as this_library\n",
    "\n",
    "lib_paths = setup_paths(this_library)"
   ]
  },
  {
   "cell_type": "code",
   "execution_count": 20,
   "metadata": {},
   "outputs": [
    {
     "data": {
      "text/plain": [
       "LibraryPaths(lib_init_path=Path('/home/ye_canming/repos/novelties/flowillower/flowillower/__init__.py'), lib_directory_path=Path('/home/ye_canming/repos/novelties/flowillower/flowillower'), lib_repo_path=Path('/home/ye_canming/repos/novelties/flowillower'), readme_path=Path('/home/ye_canming/repos/novelties/flowillower/README.md'), runs_path=Path('/home/ye_canming/repos/novelties/flowillower/runs'), runs_figs_path=Path('/home/ye_canming/repos/novelties/flowillower/runs/figs'), data_path=Path('/home/ye_canming/repos/novelties/flowillower/data'))"
      ]
     },
     "execution_count": 20,
     "metadata": {},
     "output_type": "execute_result"
    }
   ],
   "source": [
    "lib_paths"
   ]
  },
  {
   "cell_type": "code",
   "execution_count": 21,
   "metadata": {},
   "outputs": [],
   "source": [
    "#| export\n",
    "create_variables_from_dict(lib_paths, globals())"
   ]
  },
  {
   "cell_type": "code",
   "execution_count": 22,
   "metadata": {},
   "outputs": [
    {
     "data": {
      "text/plain": [
       "Path('/home/ye_canming/repos/novelties/flowillower/flowillower')"
      ]
     },
     "execution_count": 22,
     "metadata": {},
     "output_type": "execute_result"
    }
   ],
   "source": [
    "lib_directory_path"
   ]
  },
  {
   "cell_type": "code",
   "execution_count": 23,
   "metadata": {},
   "outputs": [
    {
     "data": {
      "text/plain": [
       "Path('/home/ye_canming/repos/novelties/flowillower/runs')"
      ]
     },
     "execution_count": 23,
     "metadata": {},
     "output_type": "execute_result"
    }
   ],
   "source": [
    "runs_path"
   ]
  },
  {
   "cell_type": "markdown",
   "metadata": {},
   "source": [
    "## 项目名称"
   ]
  },
  {
   "cell_type": "code",
   "execution_count": 25,
   "metadata": {},
   "outputs": [],
   "source": [
    "#| export\n",
    "lib_name_en_us = \"flowillower\" \n",
    "lib_name_zh_cn = \"柳暗花明\" \n",
    "lib_name = combine_bilingual_pretty(lib_name_zh_cn, lib_name_en_us)\n",
    "\n",
    "author_name_en_us = \"THU-CVML\" \n",
    "author_name_zh_cn = \"清华大学计算机视觉与机器学习实验室\"\n",
    "github_user=\"THU-CVML\"\n",
    "github_repo=\"flowillower\"\n",
    "import_name=\"flowillower\" # pypi name and python import name\n",
    "\n",
    "upgrade_command_pip = f\"pip install --upgrade {import_name}\" # command to upgrade the library\n",
    "\n",
    "pretty_name=combine_bilingual_pretty(f\"{author_name_zh_cn}/{lib_name_zh_cn}\", \n",
    "                                     f\"{author_name_en_us}/{lib_name_en_us}\")\n"
   ]
  },
  {
   "cell_type": "code",
   "execution_count": 26,
   "metadata": {},
   "outputs": [
    {
     "data": {
      "text/plain": [
       "'清华大学计算机视觉与机器学习实验室/柳暗花明 (THU-CVML/flowillower) '"
      ]
     },
     "execution_count": 26,
     "metadata": {},
     "output_type": "execute_result"
    }
   ],
   "source": [
    "pretty_name"
   ]
  },
  {
   "cell_type": "code",
   "execution_count": 18,
   "metadata": {},
   "outputs": [],
   "source": [
    "#| hide\n",
    "import nbdev; nbdev.nbdev_export()"
   ]
  }
 ],
 "metadata": {
  "kernelspec": {
   "display_name": "yuequ",
   "language": "python",
   "name": "python3"
  },
  "language_info": {
   "codemirror_mode": {
    "name": "ipython",
    "version": 3
   },
   "file_extension": ".py",
   "mimetype": "text/x-python",
   "name": "python",
   "nbconvert_exporter": "python",
   "pygments_lexer": "ipython3",
   "version": "3.10.17"
  }
 },
 "nbformat": 4,
 "nbformat_minor": 4
}
