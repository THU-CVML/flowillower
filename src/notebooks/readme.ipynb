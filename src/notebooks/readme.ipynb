{
 "cells": [
  {
   "cell_type": "code",
   "execution_count": null,
   "metadata": {},
   "outputs": [],
   "source": [
    "#| hide\n",
    "from flowillower.core import *"
   ]
  },
  {
   "cell_type": "markdown",
   "metadata": {},
   "source": [
    "# 🌸 Flowillower 柳暗花明\n"
   ]
  },
  {
   "cell_type": "markdown",
   "metadata": {},
   "source": [
    "![](logo.png)\n",
    "\n",
    "> “山重水复疑无路，**柳暗花明**又一村。”——宋·陆游 《游山西村》\n",
    "> \n",
    "> \"Through layered peaks and winding **flows**, no path seems in sight; /\n",
    ">\n",
    "> Beyond shadowed **willows**, blooming **flowers**—a village comes to light\"\n",
    ">\n",
    "> (Lu You, 1167 AD in the Song Dynasty, \"Travel to a Village West of the Mountains\", as translated by the library author in 2025).\n",
    "\n",
    "\n",
    "A graceful, distributed, and Git-powered experiment tracking and model explanation tool for AI researchers. See through every forward pass. Flow will over — and flowers will bloom. \n",
    "\n",
    "## ✨ What is flowillower?\n",
    "\n",
    "**`flowillower`(willow + flower = flo -willow- er = flowillower = flow-will-over )** is a lightweight, decentralized alternative to experiment tracking tools like Weights & Biases or TensorBoard — built for **researchers who care not just about metrics, but about meaning.**\n",
    "\n",
    "It enables you to:\n",
    "\n",
    "- 🌱 **Track metrics, models, and forward flows**\n",
    "- 🧠 **Visualize PyTorch model structures and internal tensor paths**\n",
    "- 🌍 **Store all logs in a Git-powered directory** (local-first, push-optional)\n",
    "- 🚀 **Deploy visualizations to Hugging Face or ModelScope Spaces** via a template app\n",
    "- 🔐 **Keep your data — your data** (No central server required)\n",
    "\n",
    "Whether you're blocked in a thicket of non-converging experiments or wandering in a maze of parameter sweeps — **flowillower** aims to be the “bright flowers from dark willows” of your research journey.\n"
   ]
  },
  {
   "cell_type": "markdown",
   "metadata": {},
   "source": [
    "## 🚀 Quickstart"
   ]
  },
  {
   "cell_type": "markdown",
   "metadata": {},
   "source": [
    "### Installation"
   ]
  },
  {
   "cell_type": "markdown",
   "metadata": {},
   "source": [
    "Install latest from the GitHub [repository][repo]:\n",
    "\n",
    "```sh\n",
    "$ pip install git+https://github.com/THU-CVML/flowillower.git\n",
    "```\n",
    "\n",
    "or from [conda][conda]\n",
    "\n",
    "```sh\n",
    "$ conda install -c THU-CVML flowillower\n",
    "```\n",
    "\n",
    "or from [pypi][pypi]\n",
    "\n",
    "\n",
    "```sh\n",
    "$ pip install flowillower\n",
    "```\n",
    "\n",
    "\n",
    "[repo]: https://github.com/THU-CVML/flowillower\n",
    "[docs]: https://THU-CVML.github.io/flowillower/\n",
    "[pypi]: https://pypi.org/project/flowillower/\n",
    "[conda]: https://anaconda.org/THU-CVML/flowillower"
   ]
  },
  {
   "cell_type": "markdown",
   "metadata": {},
   "source": [
    "### Documentation"
   ]
  },
  {
   "cell_type": "markdown",
   "metadata": {},
   "source": [
    "Documentation can be found hosted on this GitHub [repository][repo]'s [pages][docs]. Additionally you can find package manager specific guidelines on [conda][conda] and [pypi][pypi] respectively.\n",
    "\n",
    "[repo]: https://github.com/THU-CVML/flowillower\n",
    "[docs]: https://THU-CVML.github.io/flowillower/\n",
    "[pypi]: https://pypi.org/project/flowillower/\n",
    "[conda]: https://anaconda.org/THU-CVML/flowillower"
   ]
  },
  {
   "cell_type": "markdown",
   "metadata": {},
   "source": [
    "### Basic usage"
   ]
  },
  {
   "cell_type": "markdown",
   "metadata": {},
   "source": [
    "Fill me in please! Don't forget code examples:"
   ]
  },
  {
   "cell_type": "code",
   "execution_count": null,
   "metadata": {},
   "outputs": [],
   "source": [
    "from flowillower import init, log_metrics, log_model, push\n",
    "import torch.nn as nn\n",
    "\n",
    "# Initialize an experiment (creates a local Git repo)\n",
    "init(project_name=\"my_cool_exp\")\n",
    "\n",
    "# Log your model architecture\n",
    "model = nn.Sequential(nn.Linear(10, 32), nn.ReLU(), nn.Linear(32, 1))\n",
    "log_model(model)\n",
    "\n",
    "# Log some fake metrics\n",
    "log_metrics(step=1, metrics={\"loss\": 0.234, \"accuracy\": 0.89})\n",
    "log_metrics(step=2, metrics={\"loss\": 0.123, \"accuracy\": 0.91})\n",
    "\n",
    "# Optional: push to a remote Git repo for team sharing or cloud viewing\n",
    "push(\"https://huggingface.co/spaces/yourname/yourapp\")\n"
   ]
  },
  {
   "cell_type": "markdown",
   "metadata": {},
   "source": [
    "## 🙌 Contributing"
   ]
  },
  {
   "cell_type": "markdown",
   "metadata": {},
   "source": [
    "We welcome contributions, ideas, and issues! See `CONTRIBUTING.md` or open a discussion to share your thoughts.\n",
    "\n",
    "📜 License: Apache 2.0"
   ]
  },
  {
   "cell_type": "markdown",
   "metadata": {},
   "source": [
    "### Install flowillower in Development mode"
   ]
  },
  {
   "cell_type": "markdown",
   "metadata": {},
   "source": [
    "```sh\n",
    "# make sure flowillower package is installed in development mode\n",
    "$ pip install -e .\n",
    "\n",
    "# make changes under nbs/ directory\n",
    "# ...\n",
    "\n",
    "# compile to have changes apply to flowillower\n",
    "$ nbdev_prepare\n",
    "```"
   ]
  },
  {
   "cell_type": "markdown",
   "metadata": {},
   "source": [
    "### 📂 Project Structure"
   ]
  },
  {
   "cell_type": "markdown",
   "metadata": {},
   "source": [
    "## 🧠 Why the name “flowillower”?\n",
    "It’s a blend of “willow” + “flower”, inspired by the Chinese idiom “柳暗花明又一村” (Liǔ àn huā míng yòu yī cūn) — light at the end of the tunnel.\n",
    "\n",
    "Even deeper:\n",
    "flow + will + over → \"flow will over\" → Break free from rigid workflows, discover breakthroughs, and bloom."
   ]
  }
 ],
 "metadata": {
  "kernelspec": {
   "display_name": "Python 3 (ipykernel)",
   "language": "python",
   "name": "python3"
  },
  "language_info": {
   "codemirror_mode": {
    "name": "ipython",
    "version": 3
   },
   "file_extension": ".py",
   "mimetype": "text/x-python",
   "name": "python",
   "nbconvert_exporter": "python",
   "pygments_lexer": "ipython3",
   "version": "3.11.8"
  }
 },
 "nbformat": 4,
 "nbformat_minor": 4
}
